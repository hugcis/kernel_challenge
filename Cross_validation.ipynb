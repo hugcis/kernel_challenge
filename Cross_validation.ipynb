{
 "cells": [
  {
   "cell_type": "code",
   "execution_count": 5,
   "metadata": {},
   "outputs": [],
   "source": [
    "import numpy as np\n",
    "import pandas as pd\n",
    "import matplotlib.pyplot as plt\n",
    "\n",
    "%load_ext autoreload\n",
    "%autoreload 2"
   ]
  },
  {
   "cell_type": "code",
   "execution_count": 6,
   "metadata": {},
   "outputs": [],
   "source": [
    "X_train_mat = pd.read_csv('data/X_train_mat.csv', index_col=0)\n",
    "Y_train = pd.read_csv('data/Y_train.csv', index_col=0)\n",
    "X_val_mat = pd.read_csv('data/X_val_mat.csv', index_col=0)\n",
    "Y_val = pd.read_csv('data/Y_val.csv', index_col=0)\n",
    "\n",
    "X_test = pd.concat([pd.read_csv('data/Xte{}.csv'.format(i), index_col=0) for i in range(3)])\n",
    "\n",
    "X_test_mat = pd.concat([\n",
    "    pd.read_csv('data/Xte{}_mat100.csv'.format(i), delimiter=' ', header=None) \n",
    "    for i in range(3)\n",
    "])\n",
    "\n"
   ]
  },
  {
   "cell_type": "code",
   "execution_count": 7,
   "metadata": {},
   "outputs": [],
   "source": [
    "Xtr = X_train_mat.values\n",
    "# Y to {-1, 1}\n",
    "Ytr = Y_train.values * 2 - 1\n",
    "\n",
    "Xval = X_val_mat.values\n",
    "# Y to {-1, 1}\n",
    "Yval = Y_val.values * 2 - 1"
   ]
  },
  {
   "cell_type": "code",
   "execution_count": 8,
   "metadata": {},
   "outputs": [],
   "source": [
    "from Ridge import RidgeRegression"
   ]
  },
  {
   "cell_type": "code",
   "execution_count": 9,
   "metadata": {},
   "outputs": [],
   "source": [
    "from random import sample\n",
    "\n",
    "def create_k_folds(X,Y,k=10):\n",
    "    train_test_split = []\n",
    "    size = len(X)\n",
    "    num_of_elements = int(size / k)\n",
    "    dataset=list(zip(X, Y))\n",
    "    for i in range(k):\n",
    "        index_value =sample(list(enumerate(dataset)), num_of_elements)\n",
    "        indexes=[]\n",
    "        new_sample=[]\n",
    "        for idx, val in index_value:\n",
    "            indexes.append(idx)\n",
    "            new_sample.append(val)\n",
    "        train_test_split.append(new_sample)\n",
    "        for idx in sorted(indexes, reverse=True):\n",
    "            dataset.pop(idx)\n",
    "    if len(dataset) != 0:\n",
    "        for rows in range(len(dataset)):\n",
    "            train_test_split[rows].append(dataset[rows])\n",
    "        dataset.clear()\n",
    "    return train_test_split"
   ]
  },
  {
   "cell_type": "code",
   "execution_count": 10,
   "metadata": {},
   "outputs": [],
   "source": [
    "train_test_split=create_k_folds(Xtr,Ytr)"
   ]
  },
  {
   "cell_type": "code",
   "execution_count": 12,
   "metadata": {},
   "outputs": [],
   "source": [
    "from itertools import chain\n",
    "\n",
    "def kfolds_cv(train_test_split): \n",
    "    mean_errors=[]\n",
    "    lambdas=[0.001,0.02,0.1,0.3,1,5,10]\n",
    "    for j,lambda_ in enumerate(lambdas):\n",
    "        X=[[] for i in range(10)]\n",
    "        Y=[[] for i in range(10)]\n",
    "        error=[[] for i in range(7)]\n",
    "        for i in range(10):\n",
    "            X[i],Y[i]=zip(*train_test_split[i])\n",
    "        for i in range(10):\n",
    "            Xtrain= X[:i] + X[i+1:]\n",
    "            Ytrain= Y[:i]+ Y[i+1:]\n",
    "            Xtrain=list(chain.from_iterable(Xtrain))\n",
    "            Ytrain=list(chain.from_iterable(Ytrain))\n",
    "            Xvalidation=X[i]\n",
    "            Yvalidation=Y[i]\n",
    "            ridge = RidgeRegression(Xtrain,Ytrain,kernel='rbf',reg=lambda_)\n",
    "            ridge.fit()\n",
    "            error[j].append(ridge.compute_misclassif_error(Xvalidation, Yvalidation))\n",
    "        mean_errors.append(np.mean(np.array(error[j])))\n",
    "    lowest_error_idx=np.argmin(np.array(mean_errors))\n",
    "    best_lambda=lambdas[lowest_error_idx]\n",
    "    return best_lambda\n",
    "    \n",
    "    "
   ]
  },
  {
   "cell_type": "code",
   "execution_count": null,
   "metadata": {},
   "outputs": [],
   "source": [
    "lambda_=kfolds_cv(train_test_split)"
   ]
  },
  {
   "cell_type": "code",
   "execution_count": null,
   "metadata": {},
   "outputs": [],
   "source": []
  }
 ],
 "metadata": {
  "kernelspec": {
   "display_name": "Python 3",
   "language": "python",
   "name": "python3"
  },
  "language_info": {
   "codemirror_mode": {
    "name": "ipython",
    "version": 3
   },
   "file_extension": ".py",
   "mimetype": "text/x-python",
   "name": "python",
   "nbconvert_exporter": "python",
   "pygments_lexer": "ipython3",
   "version": "3.7.1"
  }
 },
 "nbformat": 4,
 "nbformat_minor": 2
}
