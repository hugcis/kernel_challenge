{
 "cells": [
  {
   "cell_type": "code",
   "execution_count": 22,
   "metadata": {},
   "outputs": [
    {
     "name": "stdout",
     "output_type": "stream",
     "text": [
      "The autoreload extension is already loaded. To reload it, use:\n",
      "  %reload_ext autoreload\n"
     ]
    }
   ],
   "source": [
    "import numpy as np\n",
    "import pandas as pd\n",
    "import matplotlib.pyplot as plt\n",
    "from \n",
    "\n",
    "\n",
    "%load_ext autoreload\n",
    "%autoreload 2"
   ]
  },
  {
   "cell_type": "code",
   "execution_count": 23,
   "metadata": {},
   "outputs": [],
   "source": [
    "## Read all data files situatued in data/\n",
    "## (Unzip `kernel-methods-for-machine-learning-2018-2019.zip` in data)\n",
    "\n",
    "X_train = pd.concat([pd.read_csv('data/Xtr{}.csv'.format(i), index_col=0) for i in range(3)])\n",
    "X_test = pd.concat([pd.read_csv('data/Xte{}.csv'.format(i), index_col=0) for i in range(3)])\n",
    "Y_train = pd.concat([pd.read_csv('data/Ytr{}.csv'.format(i), index_col=0) for i in range(3)])\n",
    "X_train_mat = pd.concat([\n",
    "    pd.read_csv('data/Xtr{}_mat100.csv'.format(i), delimiter=' ', header=None) \n",
    "    for i in range(3)\n",
    "])\n",
    "X_test_mat = pd.concat([\n",
    "    pd.read_csv('data/Xte{}_mat100.csv'.format(i), delimiter=' ', header=None) \n",
    "    for i in range(3)\n",
    "])"
   ]
  },
  {
   "cell_type": "code",
   "execution_count": 244,
   "metadata": {},
   "outputs": [],
   "source": [
    "# Add bias in the data\n",
    "X = np.concatenate((X_train_mat.values, np.ones((X_train_mat.values.shape[0], 1))), axis=1)\n",
    "# Y to {-1, 1}\n",
    "Y = Y_train.values * 2 - 1"
   ]
  },
  {
   "cell_type": "code",
   "execution_count": 252,
   "metadata": {},
   "outputs": [
    {
     "name": "stdout",
     "output_type": "stream",
     "text": [
      "     pcost       dcost       gap    pres   dres\n",
      " 0: -2.8764e+03 -1.9732e+01  4e+04  2e+02  5e-14\n",
      " 1: -1.8926e+02 -3.0832e+00  2e+03  1e+01  5e-14\n",
      " 2: -4.2646e+00 -3.1212e-03  8e+01  4e-01  5e-15\n",
      " 3: -4.4773e-02 -3.3994e-05  9e-01  4e-03  4e-15\n",
      " 4: -4.5305e-04 -5.6983e-09  9e-03  4e-05  4e-15\n",
      " 5: -4.5306e-06 -5.6987e-13  9e-05  4e-07  4e-15\n",
      " 6: -4.5306e-08 -5.6987e-17  9e-07  4e-09  4e-15\n",
      " 7: -4.5306e-10 -5.7009e-21  9e-09  4e-11  4e-15\n",
      "Optimal solution found.\n"
     ]
    },
    {
     "data": {
      "text/plain": [
       "array([-1., -1., -1., ..., -1., -1., -1.])"
      ]
     },
     "execution_count": 252,
     "metadata": {},
     "output_type": "execute_result"
    }
   ],
   "source": [
    "svm = SVM()\n",
    "svm.fit(X, Y)\n",
    "svm.predict(X)"
   ]
  },
  {
   "cell_type": "code",
   "execution_count": 254,
   "metadata": {},
   "outputs": [
    {
     "data": {
      "text/plain": [
       "0.5043333333333333"
      ]
     },
     "execution_count": 254,
     "metadata": {},
     "output_type": "execute_result"
    }
   ],
   "source": [
    "svm.score(X, Y) # Train score"
   ]
  }
 ],
 "metadata": {
  "kernelspec": {
   "display_name": "Python 3",
   "language": "python",
   "name": "python3"
  },
  "language_info": {
   "codemirror_mode": {
    "name": "ipython",
    "version": 3
   },
   "file_extension": ".py",
   "mimetype": "text/x-python",
   "name": "python",
   "nbconvert_exporter": "python",
   "pygments_lexer": "ipython3",
   "version": "3.7.1"
  }
 },
 "nbformat": 4,
 "nbformat_minor": 2
}
