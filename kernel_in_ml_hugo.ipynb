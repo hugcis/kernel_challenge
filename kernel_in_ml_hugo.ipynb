{
 "cells": [
  {
   "cell_type": "code",
   "execution_count": 102,
   "metadata": {},
   "outputs": [
    {
     "name": "stdout",
     "output_type": "stream",
     "text": [
      "The autoreload extension is already loaded. To reload it, use:\n",
      "  %reload_ext autoreload\n"
     ]
    }
   ],
   "source": [
    "import numpy as np\n",
    "import pandas as pd\n",
    "import matplotlib.pyplot as plt\n",
    "from SVM import SVM\n",
    "\n",
    "%load_ext autoreload\n",
    "%autoreload 2"
   ]
  },
  {
   "cell_type": "code",
   "execution_count": 231,
   "metadata": {},
   "outputs": [],
   "source": [
    "## Read all data files situatued in data/\n",
    "## (Unzip `kernel-methods-for-machine-learning-2018-2019.zip` in data)\n",
    "\n",
    "X_train_mat = pd.read_csv('data/X_train_mat.csv', index_col=0)\n",
    "Y_train = pd.read_csv('data/Y_train.csv', index_col=0)\n",
    "X_val_mat = pd.read_csv('data/X_val_mat.csv', index_col=0)\n",
    "Y_val = pd.read_csv('data/Y_val.csv', index_col=0)\n",
    "\n",
    "X_test = pd.concat([pd.read_csv('data/Xte{}.csv'.format(i), index_col=0) for i in range(3)])\n",
    "\n",
    "X_test_mat = pd.concat([\n",
    "    pd.read_csv('data/Xte{}_mat100.csv'.format(i), delimiter=' ', header=None) \n",
    "    for i in range(3)\n",
    "])\n"
   ]
  },
  {
   "cell_type": "code",
   "execution_count": 234,
   "metadata": {},
   "outputs": [],
   "source": [
    "# Add bias in the data itself\n",
    "Xtr = np.concatenate((X_train_mat.values, np.ones((X_train_mat.values.shape[0], 1))), axis=1)\n",
    "# Y to {-1, 1}\n",
    "Ytr = Y_train.values * 2 - 1\n",
    "\n",
    "# Add bias in the data itself\n",
    "Xval = np.concatenate((X_val_mat.values, np.ones((X_val_mat.values.shape[0], 1))), axis=1)\n",
    "# Y to {-1, 1}\n",
    "Yval = Y_val.values * 2 - 1"
   ]
  },
  {
   "cell_type": "code",
   "execution_count": 266,
   "metadata": {},
   "outputs": [
    {
     "name": "stdout",
     "output_type": "stream",
     "text": [
      "     pcost       dcost       gap    pres   dres\n",
      " 0: -4.1420e+04 -1.1806e+06  1e+06  1e-01  8e-13\n",
      " 1: -4.7502e+04 -1.5968e+05  1e+05  1e-02  1e-12\n",
      " 2: -6.8292e+04 -9.5265e+04  3e+04  2e-03  2e-12\n",
      " 3: -7.7067e+04 -9.0503e+04  1e+04  6e-04  2e-12\n",
      " 4: -7.8857e+04 -8.8586e+04  1e+04  4e-04  2e-12\n",
      " 5: -8.1084e+04 -8.5860e+04  5e+03  2e-04  2e-12\n",
      " 6: -8.2343e+04 -8.4340e+04  2e+03  6e-05  2e-12\n",
      " 7: -8.2969e+04 -8.3591e+04  6e+02  1e-05  2e-12\n",
      " 8: -8.3194e+04 -8.3328e+04  1e+02  2e-06  2e-12\n",
      " 9: -8.3240e+04 -8.3276e+04  4e+01  4e-07  2e-12\n",
      "10: -8.3254e+04 -8.3260e+04  6e+00  4e-08  2e-12\n",
      "11: -8.3257e+04 -8.3257e+04  5e-01  3e-09  2e-12\n",
      "12: -8.3257e+04 -8.3257e+04  1e-02  6e-11  2e-12\n",
      "Optimal solution found.\n",
      "0.6033333333333334\n",
      "0.5783333333333334\n"
     ]
    }
   ],
   "source": [
    "svm = SVM(C=20)\n",
    "svm.fit(X, Y)\n",
    "print(svm.score(X, Y))\n",
    "print(svm.score(Xval, Yval))"
   ]
  },
  {
   "cell_type": "code",
   "execution_count": null,
   "metadata": {},
   "outputs": [],
   "source": []
  }
 ],
 "metadata": {
  "kernelspec": {
   "display_name": "Python 3",
   "language": "python",
   "name": "python3"
  },
  "language_info": {
   "codemirror_mode": {
    "name": "ipython",
    "version": 3
   },
   "file_extension": ".py",
   "mimetype": "text/x-python",
   "name": "python",
   "nbconvert_exporter": "python",
   "pygments_lexer": "ipython3",
   "version": "3.7.1"
  }
 },
 "nbformat": 4,
 "nbformat_minor": 2
}
