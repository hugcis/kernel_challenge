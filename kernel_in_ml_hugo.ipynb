{
 "cells": [
  {
   "cell_type": "code",
   "execution_count": 1,
   "metadata": {},
   "outputs": [],
   "source": [
    "import numpy as np\n",
    "import pandas as pd\n",
    "import matplotlib.pyplot as plt\n",
    "from SVM import SVM\n",
    "\n",
    "%load_ext autoreload\n",
    "%autoreload 2"
   ]
  },
  {
   "cell_type": "code",
   "execution_count": 2,
   "metadata": {},
   "outputs": [],
   "source": [
    "## Read all data files situatued in data/\n",
    "## (Unzip `kernel-methods-for-machine-learning-2018-2019.zip` in data)\n",
    "\n",
    "X_train_mat = pd.read_csv('data/X_train_mat.csv', index_col=0)\n",
    "Y_train = pd.read_csv('data/Y_train.csv', index_col=0)\n",
    "X_val_mat = pd.read_csv('data/X_val_mat.csv', index_col=0)\n",
    "Y_val = pd.read_csv('data/Y_val.csv', index_col=0)\n",
    "\n",
    "X_test = pd.concat([pd.read_csv('data/Xte{}.csv'.format(i), index_col=0) for i in range(3)])\n",
    "\n",
    "X_test_mat = pd.concat([\n",
    "    pd.read_csv('data/Xte{}_mat100.csv'.format(i), delimiter=' ', header=None) \n",
    "    for i in range(3)\n",
    "])\n"
   ]
  },
  {
   "cell_type": "code",
   "execution_count": 11,
   "metadata": {},
   "outputs": [],
   "source": [
    "Xtr = X_train_mat.values\n",
    "# Y to {-1, 1}\n",
    "Ytr = Y_train.values * 2 - 1\n",
    "\n",
    "Xval = X_val_mat.values\n",
    "# Y to {-1, 1}\n",
    "Yval = Y_val.values * 2 - 1"
   ]
  },
  {
   "cell_type": "code",
   "execution_count": 4,
   "metadata": {},
   "outputs": [
    {
     "name": "stdout",
     "output_type": "stream",
     "text": [
      "     pcost       dcost       gap    pres   dres\n",
      " 0: -2.3519e+04 -3.3215e+05  4e+05  2e-01  1e-14\n",
      " 1: -2.6312e+04 -6.1665e+04  4e+04  1e-02  7e-15\n",
      " 2: -3.7300e+04 -4.7391e+04  1e+04  3e-03  8e-15\n",
      " 3: -3.9287e+04 -4.5495e+04  6e+03  2e-03  9e-15\n",
      " 4: -4.0863e+04 -4.3847e+04  3e+03  7e-04  9e-15\n",
      " 5: -4.1681e+04 -4.2988e+04  1e+03  2e-04  1e-14\n",
      " 6: -4.1899e+04 -4.2750e+04  9e+02  1e-04  9e-15\n",
      " 7: -4.2196e+04 -4.2416e+04  2e+02  1e-05  1e-14\n",
      " 8: -4.2277e+04 -4.2327e+04  5e+01  2e-06  1e-14\n",
      " 9: -4.2297e+04 -4.2305e+04  8e+00  2e-07  1e-14\n",
      "10: -4.2301e+04 -4.2301e+04  4e-01  1e-08  1e-14\n",
      "11: -4.2301e+04 -4.2301e+04  1e-02  2e-10  1e-14\n",
      "Optimal solution found.\n",
      "0.5991666666666666\n",
      "0.5775\n"
     ]
    }
   ],
   "source": [
    "svm = SVM(C=10)\n",
    "svm.fit(Xtr, Ytr)\n",
    "print(svm.score(Xtr, Ytr))\n",
    "print(svm.score(Xval, Yval))"
   ]
  },
  {
   "cell_type": "code",
   "execution_count": 5,
   "metadata": {},
   "outputs": [
    {
     "name": "stdout",
     "output_type": "stream",
     "text": [
      "     pcost       dcost       gap    pres   dres\n",
      " 0: -4.1419e+04 -1.1806e+06  1e+06  1e-01  3e-14\n",
      " 1: -4.7503e+04 -1.5958e+05  1e+05  1e-02  1e-14\n",
      " 2: -6.8300e+04 -9.5268e+04  3e+04  2e-03  1e-14\n",
      " 3: -7.7068e+04 -9.0498e+04  1e+04  6e-04  2e-14\n",
      " 4: -7.8858e+04 -8.8582e+04  1e+04  4e-04  2e-14\n",
      " 5: -8.1087e+04 -8.5856e+04  5e+03  2e-04  2e-14\n",
      " 6: -8.2343e+04 -8.4340e+04  2e+03  6e-05  2e-14\n",
      " 7: -8.2969e+04 -8.3592e+04  6e+02  1e-05  2e-14\n",
      " 8: -8.3193e+04 -8.3330e+04  1e+02  2e-06  2e-14\n",
      " 9: -8.3239e+04 -8.3277e+04  4e+01  4e-07  2e-14\n",
      "10: -8.3254e+04 -8.3261e+04  6e+00  5e-08  2e-14\n",
      "11: -8.3257e+04 -8.3258e+04  5e-01  3e-09  2e-14\n",
      "12: -8.3257e+04 -8.3257e+04  2e-02  1e-10  2e-14\n",
      "Optimal solution found.\n",
      "0.60375\n",
      "0.5775\n"
     ]
    }
   ],
   "source": [
    "svm = SVM(C=20)\n",
    "svm.fit(Xtr, Ytr)\n",
    "print(svm.score(Xtr, Ytr))\n",
    "print(svm.score(Xval, Yval))"
   ]
  },
  {
   "cell_type": "code",
   "execution_count": 14,
   "metadata": {},
   "outputs": [
    {
     "name": "stdout",
     "output_type": "stream",
     "text": [
      "     pcost       dcost       gap    pres   dres\n",
      " 0: -2.3519e+04 -3.3215e+05  4e+05  2e-01  1e-14\n",
      " 1: -2.6312e+04 -6.1665e+04  4e+04  1e-02  7e-15\n",
      " 2: -3.7300e+04 -4.7391e+04  1e+04  3e-03  8e-15\n",
      " 3: -3.9287e+04 -4.5495e+04  6e+03  2e-03  9e-15\n",
      " 4: -4.0863e+04 -4.3847e+04  3e+03  7e-04  9e-15\n",
      " 5: -4.1681e+04 -4.2988e+04  1e+03  2e-04  1e-14\n",
      " 6: -4.1899e+04 -4.2750e+04  9e+02  1e-04  9e-15\n",
      " 7: -4.2196e+04 -4.2416e+04  2e+02  1e-05  1e-14\n",
      " 8: -4.2277e+04 -4.2327e+04  5e+01  2e-06  1e-14\n",
      " 9: -4.2297e+04 -4.2305e+04  8e+00  2e-07  1e-14\n",
      "10: -4.2301e+04 -4.2301e+04  4e-01  1e-08  1e-14\n",
      "11: -4.2301e+04 -4.2301e+04  1e-02  2e-10  1e-14\n",
      "Optimal solution found.\n",
      "0.5991666666666666\n",
      "0.5775\n"
     ]
    }
   ],
   "source": [
    "svm = SVM(C=10)\n",
    "svm.fit(Xtr, Ytr)\n",
    "print(svm.score(Xtr, Ytr))\n",
    "print(svm.score(Xval, Yval))"
   ]
  },
  {
   "cell_type": "code",
   "execution_count": 15,
   "metadata": {},
   "outputs": [
    {
     "name": "stdout",
     "output_type": "stream",
     "text": [
      "     pcost       dcost       gap    pres   dres\n",
      " 0: -3.2256e+03 -2.8226e+05  4e+05  2e-01  9e-14\n",
      " 1: -6.1635e+03 -4.3844e+04  4e+04  2e-02  1e-13\n",
      " 2: -8.6375e+03 -1.7196e+04  9e+03  3e-03  1e-13\n",
      " 3: -9.3728e+03 -1.1110e+04  2e+03  2e-04  1e-13\n",
      " 4: -9.5218e+03 -9.8140e+03  3e+02  2e-05  1e-13\n",
      " 5: -9.5505e+03 -9.6244e+03  7e+01  1e-16  1e-13\n",
      " 6: -9.5554e+03 -9.5650e+03  1e+01  2e-16  1e-13\n",
      " 7: -9.5562e+03 -9.5570e+03  9e-01  2e-16  1e-13\n",
      " 8: -9.5563e+03 -9.5563e+03  2e-02  2e-16  1e-13\n",
      " 9: -9.5563e+03 -9.5563e+03  3e-04  2e-16  1e-13\n",
      "Optimal solution found.\n",
      "0.9983333333333333\n",
      "0.6091666666666666\n"
     ]
    }
   ],
   "source": [
    "svm = SVM(C=10, kernel='rbf', sigma=0.1)\n",
    "svm.fit(Xtr, Ytr)\n",
    "print(svm.score(Xtr, Ytr))\n",
    "print(svm.score(Xval, Yval))"
   ]
  },
  {
   "cell_type": "code",
   "execution_count": 13,
   "metadata": {},
   "outputs": [
    {
     "name": "stdout",
     "output_type": "stream",
     "text": [
      "     pcost       dcost       gap    pres   dres\n",
      " 0: -2.3499e+04 -3.1052e+05  4e+05  2e-01  5e-13\n",
      " 1: -2.6672e+04 -5.9727e+04  3e+04  1e-02  6e-13\n",
      " 2: -3.7516e+04 -4.7136e+04  1e+04  3e-03  8e-13\n",
      " 3: -3.9519e+04 -4.5214e+04  6e+03  2e-03  8e-13\n",
      " 4: -4.0758e+04 -4.3917e+04  3e+03  8e-04  8e-13\n",
      " 5: -4.1703e+04 -4.2897e+04  1e+03  2e-04  9e-13\n",
      " 6: -4.1900e+04 -4.2687e+04  8e+02  1e-04  8e-13\n",
      " 7: -4.2157e+04 -4.2402e+04  2e+02  2e-05  1e-12\n",
      " 8: -4.2247e+04 -4.2302e+04  5e+01  2e-06  1e-12\n",
      " 9: -4.2269e+04 -4.2278e+04  8e+00  2e-07  1e-12\n",
      "10: -4.2273e+04 -4.2274e+04  3e-01  8e-09  1e-12\n",
      "11: -4.2273e+04 -4.2273e+04  7e-03  2e-10  1e-12\n",
      "Optimal solution found.\n",
      "0.6020833333333333\n",
      "0.5766666666666667\n"
     ]
    }
   ],
   "source": [
    "svm = SVM(C=10, kernel='rbf', sigma=1)\n",
    "svm.fit(Xtr, Ytr)\n",
    "print(svm.score(Xtr, Ytr))\n",
    "print(svm.score(Xval, Yval))"
   ]
  }
 ],
 "metadata": {
  "kernelspec": {
   "display_name": "Python 3",
   "language": "python",
   "name": "python3"
  },
  "language_info": {
   "codemirror_mode": {
    "name": "ipython",
    "version": 3
   },
   "file_extension": ".py",
   "mimetype": "text/x-python",
   "name": "python",
   "nbconvert_exporter": "python",
   "pygments_lexer": "ipython3",
   "version": "3.7.1"
  }
 },
 "nbformat": 4,
 "nbformat_minor": 2
}
