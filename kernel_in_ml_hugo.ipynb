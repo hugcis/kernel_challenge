{
 "cells": [
  {
   "cell_type": "code",
   "execution_count": 1,
   "metadata": {},
   "outputs": [],
   "source": [
    "import numpy as np\n",
    "import pandas as pd\n",
    "import matplotlib.pyplot as plt\n",
    "from SVM import SVM\n",
    "from kernels.counting_kernel import CountingKernel\n",
    "from Ridge import RidgeRegression\n",
    "%load_ext autoreload\n",
    "%autoreload 2"
   ]
  },
  {
   "cell_type": "code",
   "execution_count": 2,
   "metadata": {},
   "outputs": [],
   "source": [
    "## Read all data files situatued in data/\n",
    "## (Unzip `kernel-methods-for-machine-learning-2018-2019.zip` in data)\n",
    "\n",
    "X_train_mat = pd.read_csv('data/X_train_mat.csv', index_col=0)\n",
    "X_train = pd.read_csv('data/X_train.csv', index_col=0)\n",
    "Y_train = pd.read_csv('data/Y_train.csv', index_col=0)\n",
    "X_val_mat = pd.read_csv('data/X_val_mat.csv', index_col=0)\n",
    "X_val = pd.read_csv('data/X_val.csv', index_col=0)\n",
    "Y_val = pd.read_csv('data/Y_val.csv', index_col=0)\n",
    "\n",
    "X_test = pd.concat([pd.read_csv('data/Xte{}.csv'.format(i), index_col=0) for i in range(3)])\n",
    "\n",
    "X_test_mat = pd.concat([\n",
    "    pd.read_csv('data/Xte{}_mat100.csv'.format(i), delimiter=' ', header=None) \n",
    "    for i in range(3)\n",
    "])\n"
   ]
  },
  {
   "cell_type": "code",
   "execution_count": 3,
   "metadata": {},
   "outputs": [],
   "source": [
    "Xtr = X_train_mat.values\n",
    "# Y to {-1, 1}\n",
    "Ytr = Y_train.values * 2 - 1\n",
    "\n",
    "Xval = X_val_mat.values\n",
    "# Y to {-1, 1}\n",
    "Yval = Y_val.values * 2 - 1\n",
    "\n",
    "Xtrseq = X_train.values\n",
    "Xvalseq = X_val.values\n",
    "\n",
    "m = Xtr.mean(axis=0)\n",
    "std = Xtr.std(axis=0)\n",
    "\n",
    "Xtr = (Xtr - m)/std\n",
    "Xval = (Xval - m)/std\n"
   ]
  },
  {
   "cell_type": "code",
   "execution_count": null,
   "metadata": {},
   "outputs": [
    {
     "name": "stdout",
     "output_type": "stream",
     "text": [
      "     pcost       dcost       gap    pres   dres\n",
      " 0: -2.4380e+04 -4.0771e+05  7e+05  5e-01  7e-12\n",
      " 1: -2.5214e+04 -9.7951e+04  7e+04  2e-16  7e-12\n",
      " 2: -3.2207e+04 -4.7652e+04  2e+04  1e-16  8e-12\n",
      " 3: -3.7523e+04 -4.3645e+04  6e+03  2e-16  1e-11\n",
      " 4: -3.8845e+04 -4.2458e+04  4e+03  2e-16  1e-11\n",
      " 5: -3.9692e+04 -4.1644e+04  2e+03  2e-16  1e-11\n",
      " 6: -4.0212e+04 -4.1131e+04  9e+02  2e-16  1e-11\n",
      " 7: -4.0470e+04 -4.0870e+04  4e+02  2e-16  1e-11\n",
      " 8: -4.0606e+04 -4.0731e+04  1e+02  2e-16  1e-11\n",
      " 9: -4.0646e+04 -4.0687e+04  4e+01  2e-16  1e-11\n",
      "10: -4.0658e+04 -4.0674e+04  2e+01  2e-16  1e-11\n",
      "11: -4.0663e+04 -4.0669e+04  6e+00  2e-16  1e-11\n"
     ]
    }
   ],
   "source": [
    "svm = SVM(C=10)\n",
    "svm.fit(Xtr, Ytr)\n",
    "print(svm.score(Xtr, Ytr))\n",
    "print(svm.score(Xval, Yval))"
   ]
  },
  {
   "cell_type": "code",
   "execution_count": null,
   "metadata": {},
   "outputs": [],
   "source": [
    "svm = SVM(C=20)\n",
    "svm.fit(Xtr, Ytr)\n",
    "print(svm.score(Xtr, Ytr))\n",
    "print(svm.score(Xval, Yval))"
   ]
  },
  {
   "cell_type": "code",
   "execution_count": 14,
   "metadata": {},
   "outputs": [
    {
     "name": "stdout",
     "output_type": "stream",
     "text": [
      "     pcost       dcost       gap    pres   dres\n",
      " 0: -2.3519e+04 -3.3215e+05  4e+05  2e-01  1e-14\n",
      " 1: -2.6312e+04 -6.1665e+04  4e+04  1e-02  7e-15\n",
      " 2: -3.7300e+04 -4.7391e+04  1e+04  3e-03  8e-15\n",
      " 3: -3.9287e+04 -4.5495e+04  6e+03  2e-03  9e-15\n",
      " 4: -4.0863e+04 -4.3847e+04  3e+03  7e-04  9e-15\n",
      " 5: -4.1681e+04 -4.2988e+04  1e+03  2e-04  1e-14\n",
      " 6: -4.1899e+04 -4.2750e+04  9e+02  1e-04  9e-15\n",
      " 7: -4.2196e+04 -4.2416e+04  2e+02  1e-05  1e-14\n",
      " 8: -4.2277e+04 -4.2327e+04  5e+01  2e-06  1e-14\n",
      " 9: -4.2297e+04 -4.2305e+04  8e+00  2e-07  1e-14\n",
      "10: -4.2301e+04 -4.2301e+04  4e-01  1e-08  1e-14\n",
      "11: -4.2301e+04 -4.2301e+04  1e-02  2e-10  1e-14\n",
      "Optimal solution found.\n",
      "0.5991666666666666\n",
      "0.5775\n"
     ]
    }
   ],
   "source": [
    "svm = SVM(C=10)\n",
    "svm.fit(Xtr, Ytr)\n",
    "print(svm.score(Xtr, Ytr))\n",
    "print(svm.score(Xval, Yval))"
   ]
  },
  {
   "cell_type": "code",
   "execution_count": 4,
   "metadata": {},
   "outputs": [
    {
     "name": "stdout",
     "output_type": "stream",
     "text": [
      "     pcost       dcost       gap    pres   dres\n",
      " 0: -3.2256e+03 -2.8226e+05  4e+05  2e-01  9e-14\n",
      " 1: -6.1635e+03 -4.3844e+04  4e+04  2e-02  1e-13\n",
      " 2: -8.6375e+03 -1.7196e+04  9e+03  3e-03  1e-13\n",
      " 3: -9.3728e+03 -1.1110e+04  2e+03  2e-04  1e-13\n",
      " 4: -9.5218e+03 -9.8140e+03  3e+02  2e-05  1e-13\n",
      " 5: -9.5505e+03 -9.6244e+03  7e+01  1e-16  1e-13\n",
      " 6: -9.5554e+03 -9.5650e+03  1e+01  2e-16  1e-13\n",
      " 7: -9.5562e+03 -9.5570e+03  9e-01  2e-16  1e-13\n",
      " 8: -9.5563e+03 -9.5563e+03  2e-02  2e-16  1e-13\n",
      " 9: -9.5563e+03 -9.5563e+03  3e-04  2e-16  1e-13\n",
      "Optimal solution found.\n"
     ]
    },
    {
     "data": {
      "text/plain": [
       "<SVM.SVM at 0x81a6ceb70>"
      ]
     },
     "execution_count": 4,
     "metadata": {},
     "output_type": "execute_result"
    }
   ],
   "source": [
    "svm = SVM(C=10, kernel='rbf', sigma=0.1)\n",
    "svm.fit(Xtr, Ytr)\n",
    "#print(svm.score(Xtr, Ytr))\n",
    "#print(svm.score(Xval, Yval))"
   ]
  },
  {
   "cell_type": "code",
   "execution_count": 43,
   "metadata": {},
   "outputs": [],
   "source": [
    "rbf_result = svm.predict(X_test_mat.values)\n",
    "\n",
    "with open('submission.csv', 'w') as f:\n",
    "    f.write(\"Id,Bound\\n\")\n",
    "    for n, b in enumerate(rbf_result):\n",
    "        f.write(\"{},{}\\n\".format(n, int((b+1)/2)))"
   ]
  },
  {
   "cell_type": "code",
   "execution_count": 13,
   "metadata": {},
   "outputs": [
    {
     "name": "stdout",
     "output_type": "stream",
     "text": [
      "     pcost       dcost       gap    pres   dres\n",
      " 0: -2.3499e+04 -3.1052e+05  4e+05  2e-01  5e-13\n",
      " 1: -2.6672e+04 -5.9727e+04  3e+04  1e-02  6e-13\n",
      " 2: -3.7516e+04 -4.7136e+04  1e+04  3e-03  8e-13\n",
      " 3: -3.9519e+04 -4.5214e+04  6e+03  2e-03  8e-13\n",
      " 4: -4.0758e+04 -4.3917e+04  3e+03  8e-04  8e-13\n",
      " 5: -4.1703e+04 -4.2897e+04  1e+03  2e-04  9e-13\n",
      " 6: -4.1900e+04 -4.2687e+04  8e+02  1e-04  8e-13\n",
      " 7: -4.2157e+04 -4.2402e+04  2e+02  2e-05  1e-12\n",
      " 8: -4.2247e+04 -4.2302e+04  5e+01  2e-06  1e-12\n",
      " 9: -4.2269e+04 -4.2278e+04  8e+00  2e-07  1e-12\n",
      "10: -4.2273e+04 -4.2274e+04  3e-01  8e-09  1e-12\n",
      "11: -4.2273e+04 -4.2273e+04  7e-03  2e-10  1e-12\n",
      "Optimal solution found.\n",
      "0.6020833333333333\n",
      "0.5766666666666667\n"
     ]
    }
   ],
   "source": [
    "svm = SVM(C=10, kernel='rbf', sigma=1)\n",
    "svm.fit(Xtr, Ytr)\n",
    "print(svm.score(Xtr, Ytr))\n",
    "print(svm.score(Xval, Yval))"
   ]
  },
  {
   "cell_type": "code",
   "execution_count": null,
   "metadata": {},
   "outputs": [
    {
     "name": "stdout",
     "output_type": "stream",
     "text": [
      "     pcost       dcost       gap    pres   dres\n",
      " 0: -4.7939e+03 -1.0482e+04  2e+04  2e+00  4e-10\n",
      " 1: -3.8217e+03 -7.1406e+03  3e+03  3e-16  2e-10\n",
      " 2: -4.4222e+03 -5.3449e+03  9e+02  2e-16  2e-10\n",
      " 3: -4.4833e+03 -5.2023e+03  7e+02  2e-16  2e-10\n",
      " 4: -4.5101e+03 -5.1046e+03  6e+02  2e-16  2e-10\n",
      " 5: -4.6300e+03 -4.9123e+03  3e+02  2e-16  2e-10\n",
      " 6: -4.6551e+03 -4.8703e+03  2e+02  2e-16  2e-10\n",
      " 7: -4.6989e+03 -4.8039e+03  1e+02  2e-16  2e-10\n",
      " 8: -4.7082e+03 -4.7886e+03  8e+01  2e-16  2e-10\n",
      " 9: -4.7163e+03 -4.7768e+03  6e+01  2e-16  2e-10\n",
      "10: -4.7316e+03 -4.7570e+03  3e+01  2e-16  2e-10\n",
      "11: -4.7379e+03 -4.7492e+03  1e+01  2e-16  2e-10\n",
      "12: -4.7412e+03 -4.7455e+03  4e+00  2e-16  2e-10\n"
     ]
    }
   ],
   "source": [
    "counting_kernel = CountingKernel(k=1)\n",
    "svm = SVM(C=1, kernel=counting_kernel)\n",
    "svm.fit(Xtrseq, Ytr)\n",
    "print(svm.score(Xtrseq, Ytr))\n",
    "print(svm.score(Xvalseq, Yval))"
   ]
  },
  {
   "cell_type": "code",
   "execution_count": null,
   "metadata": {},
   "outputs": [],
   "source": [
    "counting_kernel = CountingKernel(k=2)\n",
    "svm = SVM(C=1, kernel=counting_kernel)\n",
    "svm.fit(Xtrseq, Ytr)\n",
    "print(svm.score(Xtrseq, Ytr))\n",
    "print(svm.score(Xvalseq, Yval))"
   ]
  },
  {
   "cell_type": "code",
   "execution_count": 47,
   "metadata": {},
   "outputs": [],
   "source": [
    "count_result = svm.predict(X_test.values)\n",
    "\n",
    "with open('submission.csv', 'w') as f:\n",
    "    f.write(\"Id,Bound\\n\")\n",
    "    for n, b in enumerate(count_result):\n",
    "        f.write(\"{},{}\\n\".format(n, int((b+1)/2)))"
   ]
  },
  {
   "cell_type": "code",
   "execution_count": 5,
   "metadata": {},
   "outputs": [],
   "source": [
    "from kernel_logistic import KernelLogistic"
   ]
  },
  {
   "cell_type": "code",
   "execution_count": 36,
   "metadata": {},
   "outputs": [
    {
     "name": "stdout",
     "output_type": "stream",
     "text": [
      "Difference 0.00000\n",
      "Difference 13.71683\n",
      "Difference 0.11959\n",
      "Difference 0.00255\n",
      "Difference 0.00007\n",
      "Difference 0.00000\n",
      "1.0\n",
      "0.5858333333333333\n"
     ]
    }
   ],
   "source": [
    "logistic = KernelLogistic(kernel='rbf')\n",
    "logistic.fit(Xtr, Ytr)\n",
    "print(logistic.score(Xtr, Ytr))\n",
    "print(logistic.score(Xval, Yval))"
   ]
  },
  {
   "cell_type": "code",
   "execution_count": 7,
   "metadata": {},
   "outputs": [
    {
     "name": "stdout",
     "output_type": "stream",
     "text": [
      "2393.0\n",
      "581.0\n"
     ]
    }
   ],
   "source": [
    "counting_kernel = CountingKernel(k=(2,))\n",
    "\n",
    "ridge = RidgeRegression(Xtrseq[:100], Ytr[:100], kernel = counting_kernel)\n",
    "ridge.fit()\n",
    "print(ridge.compute_misclassif_error(Xtrseq, Ytr))\n",
    "print(ridge.compute_misclassif_error(Xvalseq, Yval))"
   ]
  },
  {
   "cell_type": "code",
   "execution_count": 9,
   "metadata": {},
   "outputs": [
    {
     "data": {
      "text/plain": [
       "2393.0"
      ]
     },
     "execution_count": 9,
     "metadata": {},
     "output_type": "execute_result"
    }
   ],
   "source": [
    "res = np.sign(ridge.predict(Xtrseq)).T\n",
    "np.sum(res!= Ytr)/len(Ytr)\n"
   ]
  },
  {
   "cell_type": "code",
   "execution_count": 10,
   "metadata": {},
   "outputs": [
    {
     "data": {
      "text/plain": [
       "array([-1., -1., -1., ..., -1., -1., -1.])"
      ]
     },
     "execution_count": 10,
     "metadata": {},
     "output_type": "execute_result"
    }
   ],
   "source": [
    "res"
   ]
  },
  {
   "cell_type": "code",
   "execution_count": 11,
   "metadata": {},
   "outputs": [
    {
     "data": {
      "text/plain": [
       "array([[False, False, False, ..., False, False, False],\n",
       "       [ True,  True,  True, ...,  True,  True,  True],\n",
       "       [ True,  True,  True, ...,  True,  True,  True],\n",
       "       ...,\n",
       "       [ True,  True,  True, ...,  True,  True,  True],\n",
       "       [False, False, False, ..., False, False, False],\n",
       "       [ True,  True,  True, ...,  True,  True,  True]])"
      ]
     },
     "execution_count": 11,
     "metadata": {},
     "output_type": "execute_result"
    }
   ],
   "source": [
    "(res!= Ytr)"
   ]
  },
  {
   "cell_type": "code",
   "execution_count": null,
   "metadata": {},
   "outputs": [],
   "source": []
  }
 ],
 "metadata": {
  "kernelspec": {
   "display_name": "Python 3",
   "language": "python",
   "name": "python3"
  },
  "language_info": {
   "codemirror_mode": {
    "name": "ipython",
    "version": 3
   },
   "file_extension": ".py",
   "mimetype": "text/x-python",
   "name": "python",
   "nbconvert_exporter": "python",
   "pygments_lexer": "ipython3",
   "version": "3.7.1"
  }
 },
 "nbformat": 4,
 "nbformat_minor": 2
}
