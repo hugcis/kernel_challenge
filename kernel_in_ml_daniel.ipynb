{
 "cells": [
  {
   "cell_type": "code",
   "execution_count": 37,
   "metadata": {},
   "outputs": [
    {
     "name": "stdout",
     "output_type": "stream",
     "text": [
      "The autoreload extension is already loaded. To reload it, use:\n",
      "  %reload_ext autoreload\n"
     ]
    }
   ],
   "source": [
    "import numpy as np\n",
    "import pandas as pd\n",
    "import matplotlib.pyplot as plt\n",
    "from SVM import SVM\n",
    "\n",
    "%load_ext autoreload\n",
    "%autoreload 2"
   ]
  },
  {
   "cell_type": "code",
   "execution_count": 38,
   "metadata": {},
   "outputs": [],
   "source": [
    "## Read all data files situatued in data/\n",
    "## (Unzip `kernel-methods-for-machine-learning-2018-2019.zip` in data)\n",
    "\n",
    "X_train = pd.read_csv('data/X_train.csv', index_col=0)\n",
    "X_val = pd.read_csv('data/X_val.csv', index_col=0)\n",
    "\n",
    "Y_train = pd.read_csv('data/Y_train.csv', index_col=0)\n",
    "Y_val = pd.read_csv('data/Y_val.csv', index_col=0)\n"
   ]
  },
  {
   "cell_type": "code",
   "execution_count": 39,
   "metadata": {},
   "outputs": [],
   "source": [
    "\n",
    "# Y to {-1, 1}\n",
    "Ytr = Y_train.values * 2 - 1\n",
    "\n",
    "# Y to {-1, 1}\n",
    "Yval = Y_val.values * 2 - 1"
   ]
  },
  {
   "cell_type": "code",
   "execution_count": 6,
   "metadata": {},
   "outputs": [
    {
     "name": "stdout",
     "output_type": "stream",
     "text": [
      "Feature map train ok\n",
      "Feature map test ok\n"
     ]
    }
   ],
   "source": [
    "from kernels.counting_kernel import CountingKernel\n",
    "kernel = CountingKernel(k=(5,))\n",
    "X = kernel.feature_map(X_train[\"seq\"].values)\n",
    "print(\"Feature map train ok\")\n",
    "m = np.mean(X, axis=0)\n",
    "std = np.std(X, axis=0)\n",
    "X = (X - m) / std\n",
    "Xval = kernel.feature_map(X_val[\"seq\"].values)\n",
    "print(\"Feature map test ok\")\n",
    "Xval = (Xval - m) / std\n",
    "\n",
    "\n",
    "\n"
   ]
  },
  {
   "cell_type": "code",
   "execution_count": 10,
   "metadata": {},
   "outputs": [
    {
     "name": "stdout",
     "output_type": "stream",
     "text": [
      "     pcost       dcost       gap    pres   dres\n",
      " 0:  2.5817e+06 -7.0167e+06  1e+07  1e-17  1e-14\n",
      " 1:  4.8665e+05 -6.0646e+05  1e+06  1e-16  3e-15\n",
      " 2:  6.1239e+04 -1.0375e+05  2e+05  2e-16  2e-15\n",
      " 3:  4.4513e+03 -1.8196e+04  2e+04  4e-17  1e-15\n",
      " 4: -1.9176e+03 -4.8196e+03  3e+03  4e-17  8e-16\n",
      " 5: -2.3236e+03 -2.5218e+03  2e+02  6e-17  6e-17\n",
      " 6: -2.3275e+03 -2.3298e+03  2e+00  1e-16  5e-17\n",
      " 7: -2.3275e+03 -2.3275e+03  2e-02  1e-16  6e-17\n",
      " 8: -2.3275e+03 -2.3275e+03  2e-04  1e-16  8e-17\n",
      "Optimal solution found.\n"
     ]
    },
    {
     "data": {
      "text/plain": [
       "<SVM.SVM at 0x11f94df60>"
      ]
     },
     "execution_count": 10,
     "metadata": {},
     "output_type": "execute_result"
    }
   ],
   "source": [
    "svm = SVM(kernel='rbf', C=100)\n",
    "svm.fit(X, Ytr)\n",
    "svm.score(Xval, Yval) \n",
    "svm.score(X, Ytr)"
   ]
  },
  {
   "cell_type": "code",
   "execution_count": null,
   "metadata": {},
   "outputs": [],
   "source": [
    "from kernels.align_kernel import AlignKernel\n",
    "kernel = AlignKernel()\n",
    "\n",
    "svm = SVM(kernel=kernel, C=20)\n",
    "svm.fit(X_train[\"seq\"].values, Ytr)\n"
   ]
  },
  {
   "cell_type": "code",
   "execution_count": 35,
   "metadata": {},
   "outputs": [
    {
     "data": {
      "text/plain": [
       "0.5833333333333334"
      ]
     },
     "execution_count": 35,
     "metadata": {},
     "output_type": "execute_result"
    }
   ],
   "source": [
    "svm.score(X_val[\"seq\"].values, Yval)\n",
    "\n"
   ]
  },
  {
   "cell_type": "code",
   "execution_count": null,
   "metadata": {},
   "outputs": [],
   "source": [
    "from kernels.counting_kernel import CountingKernel\n",
    "kernel = CountingKernel(k=(6,), m=2, max_size=500, dimismatch=True)\n",
    "kernel.define_vocabulary(X_train[\"seq\"].values)\n",
    "X = kernel.feature_map(X_train[\"seq\"].values)\n",
    "m = np.mean(X, axis=0)\n",
    "std = np.std(X, axis=0)\n",
    "X = (X - m) / std\n",
    "Xval = kernel.feature_map(X_val[\"seq\"].values)\n",
    "Xval = (Xval - m) / std\n",
    "\n",
    "svm = SVM(kernel='rbf', C=20)\n",
    "svm.fit(X, Ytr)\n",
    "svm.score(Xval, Yval)\n"
   ]
  }
 ],
 "metadata": {
  "kernelspec": {
   "display_name": "Python 3",
   "language": "python",
   "name": "python3"
  },
  "language_info": {
   "codemirror_mode": {
    "name": "ipython",
    "version": 3
   },
   "file_extension": ".py",
   "mimetype": "text/x-python",
   "name": "python",
   "nbconvert_exporter": "python",
   "pygments_lexer": "ipython3",
   "version": "3.6.4"
  }
 },
 "nbformat": 4,
 "nbformat_minor": 2
}
